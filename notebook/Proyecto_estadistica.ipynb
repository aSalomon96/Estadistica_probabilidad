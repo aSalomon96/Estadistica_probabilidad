{
 "cells": [
  {
   "cell_type": "markdown",
   "metadata": {},
   "source": [
    "# Objetivos \n",
    "#### Aumentar la conversion en la pagina web\n",
    "\n",
    "\n",
    "# Cambios en la página de inicio del sitio web: \n",
    "\n",
    "- **$H0$**: Cambiar el diseño de la página de inicio no afectará las conversiones.\n",
    "- **$H1$**: Cambiar el diseño de la página de inicio aumentará las conversiones.\n",
    "\n",
    "\n",
    "# Dividir a los usuarios en control y test\n",
    "- **grupo A** : experimentaría el diseño original de la página de inicio \n",
    "- **grupo B** : experimentaría el nuevo diseño\n",
    "\n",
    "Luego, compararíamos las conversiones entre ambos grupos para determinar si el nuevo diseño tiene un impacto significativo.\n",
    "\n",
    "\n",
    "# Decidir la métrica y la duración de la prueba\n",
    "La métrica principal sería la tasa de conversión, que representa el porcentaje de usuarios que realizan una acción deseada en la página de inicio, como hacer una compra. Se compararía la tasa de conversión entre el grupo de control (diseño original) y el grupo de test (nuevo diseño).\n",
    "Ademas comprobariamos donde afecta mejor el cambio, en que tipo de disposiutivo, la localidad, y la relacion entre el tiempo y paginas vista con la conversion\n",
    "\n"
   ]
  },
  {
   "cell_type": "code",
   "execution_count": 1,
   "metadata": {},
   "outputs": [],
   "source": [
    "import pandas as pd\n",
    "import numpy as np\n",
    "import matplotlib.pyplot as plt\n",
    "\n",
    "import seaborn as sns\n",
    "#import scypy.stats as stats\n",
    "from itertools import combinations\n",
    "import math\n",
    "from src import soporte_abtesting as sa\n",
    "\n",
    "# Calcular el tamaño muestral\n",
    "# -----------------------------------------------------------------------\n",
    "from statsmodels.stats.power import NormalIndPower\n",
    "import statsmodels.stats.api as sms\n",
    "\n",
    "# Configuración de las gráficas\n",
    "# ------------------------------------------------------------------------------\n",
    "# establece el estilo del fondo de las gráficas como \"whitegrid\". Las gráficas tendrán un fondo blanco con líneas de cuadrícula horizontales y verticales.\n",
    "sns.set_style(\"dark\")\n",
    "\n",
    "# cambiará el esquema de colores predeterminado de Seaborn a uno más oscuro, adecuado para gráficas con fondos claros. \n",
    "sns.set_theme(style=\"dark\")\n",
    "\n",
    "# establece el estilo en seaborn-v0_8-darkgrid. \n",
    "plt.style.use('dark_background')\n",
    "\n",
    "# Ignorar los warnings\n",
    "# ------------------------------------------------------------------------------\n",
    "import warnings\n",
    "warnings.filterwarnings(\"ignore\")\n"
   ]
  },
  {
   "cell_type": "markdown",
   "metadata": {},
   "source": []
  },
  {
   "cell_type": "code",
   "execution_count": 2,
   "metadata": {},
   "outputs": [
    {
     "data": {
      "application/vnd.microsoft.datawrangler.viewer.v0+json": {
       "columns": [
        {
         "name": "index",
         "rawType": "int64",
         "type": "integer"
        },
        {
         "name": "User ID",
         "rawType": "int64",
         "type": "integer"
        },
        {
         "name": "Group",
         "rawType": "object",
         "type": "string"
        },
        {
         "name": "Page Views",
         "rawType": "int64",
         "type": "integer"
        },
        {
         "name": "Time Spent",
         "rawType": "int64",
         "type": "integer"
        },
        {
         "name": "Conversion",
         "rawType": "object",
         "type": "string"
        },
        {
         "name": "Device",
         "rawType": "object",
         "type": "string"
        },
        {
         "name": "Location",
         "rawType": "object",
         "type": "string"
        }
       ],
       "conversionMethod": "pd.DataFrame",
       "ref": "69bb8844-e18e-4d88-ab74-c28ca3f32f06",
       "rows": [
        [
         "0",
         "14292",
         "B",
         "3",
         "424",
         "No",
         "Mobile",
         "Northern Ireland"
        ],
        [
         "1",
         "11682",
         "A",
         "9",
         "342",
         "No",
         "Mobile",
         "Scotland"
        ],
        [
         "2",
         "19825",
         "A",
         "2",
         "396",
         "No",
         "Desktop",
         "Northern Ireland"
        ],
        [
         "3",
         "16080",
         "B",
         "4",
         "318",
         "No",
         "Desktop",
         "Wales"
        ],
        [
         "4",
         "18851",
         "A",
         "1",
         "338",
         "Yes",
         "Desktop",
         "Scotland"
        ]
       ],
       "shape": {
        "columns": 7,
        "rows": 5
       }
      },
      "text/html": [
       "<div>\n",
       "<style scoped>\n",
       "    .dataframe tbody tr th:only-of-type {\n",
       "        vertical-align: middle;\n",
       "    }\n",
       "\n",
       "    .dataframe tbody tr th {\n",
       "        vertical-align: top;\n",
       "    }\n",
       "\n",
       "    .dataframe thead th {\n",
       "        text-align: right;\n",
       "    }\n",
       "</style>\n",
       "<table border=\"1\" class=\"dataframe\">\n",
       "  <thead>\n",
       "    <tr style=\"text-align: right;\">\n",
       "      <th></th>\n",
       "      <th>User ID</th>\n",
       "      <th>Group</th>\n",
       "      <th>Page Views</th>\n",
       "      <th>Time Spent</th>\n",
       "      <th>Conversion</th>\n",
       "      <th>Device</th>\n",
       "      <th>Location</th>\n",
       "    </tr>\n",
       "  </thead>\n",
       "  <tbody>\n",
       "    <tr>\n",
       "      <th>0</th>\n",
       "      <td>14292</td>\n",
       "      <td>B</td>\n",
       "      <td>3</td>\n",
       "      <td>424</td>\n",
       "      <td>No</td>\n",
       "      <td>Mobile</td>\n",
       "      <td>Northern Ireland</td>\n",
       "    </tr>\n",
       "    <tr>\n",
       "      <th>1</th>\n",
       "      <td>11682</td>\n",
       "      <td>A</td>\n",
       "      <td>9</td>\n",
       "      <td>342</td>\n",
       "      <td>No</td>\n",
       "      <td>Mobile</td>\n",
       "      <td>Scotland</td>\n",
       "    </tr>\n",
       "    <tr>\n",
       "      <th>2</th>\n",
       "      <td>19825</td>\n",
       "      <td>A</td>\n",
       "      <td>2</td>\n",
       "      <td>396</td>\n",
       "      <td>No</td>\n",
       "      <td>Desktop</td>\n",
       "      <td>Northern Ireland</td>\n",
       "    </tr>\n",
       "    <tr>\n",
       "      <th>3</th>\n",
       "      <td>16080</td>\n",
       "      <td>B</td>\n",
       "      <td>4</td>\n",
       "      <td>318</td>\n",
       "      <td>No</td>\n",
       "      <td>Desktop</td>\n",
       "      <td>Wales</td>\n",
       "    </tr>\n",
       "    <tr>\n",
       "      <th>4</th>\n",
       "      <td>18851</td>\n",
       "      <td>A</td>\n",
       "      <td>1</td>\n",
       "      <td>338</td>\n",
       "      <td>Yes</td>\n",
       "      <td>Desktop</td>\n",
       "      <td>Scotland</td>\n",
       "    </tr>\n",
       "  </tbody>\n",
       "</table>\n",
       "</div>"
      ],
      "text/plain": [
       "   User ID Group  Page Views  Time Spent Conversion   Device          Location\n",
       "0    14292     B           3         424         No   Mobile  Northern Ireland\n",
       "1    11682     A           9         342         No   Mobile          Scotland\n",
       "2    19825     A           2         396         No  Desktop  Northern Ireland\n",
       "3    16080     B           4         318         No  Desktop             Wales\n",
       "4    18851     A           1         338        Yes  Desktop          Scotland"
      ]
     },
     "execution_count": 2,
     "metadata": {},
     "output_type": "execute_result"
    }
   ],
   "source": [
    "df = pd.read_csv(\"archive/ab_testing.csv\")\n",
    "df.head()"
   ]
  },
  {
   "cell_type": "code",
   "execution_count": 3,
   "metadata": {},
   "outputs": [
    {
     "name": "stdout",
     "output_type": "stream",
     "text": [
      "El número de datos es 5000 y el de columnas es 7\n",
      "\n",
      " ..................... \n",
      "\n",
      "Los duplicados que tenemos en el conjunto de datos son: 0\n",
      "\n",
      " ..................... \n",
      "\n",
      "Los nulos que tenemos en el conjunto de datos son:\n"
     ]
    },
    {
     "data": {
      "application/vnd.microsoft.datawrangler.viewer.v0+json": {
       "columns": [
        {
         "name": "index",
         "rawType": "object",
         "type": "string"
        },
        {
         "name": "%_nulos",
         "rawType": "float64",
         "type": "float"
        }
       ],
       "conversionMethod": "pd.DataFrame",
       "ref": "451e2085-d9c0-4387-b042-b38b7b602fa8",
       "rows": [],
       "shape": {
        "columns": 1,
        "rows": 0
       }
      },
      "text/html": [
       "<div>\n",
       "<style scoped>\n",
       "    .dataframe tbody tr th:only-of-type {\n",
       "        vertical-align: middle;\n",
       "    }\n",
       "\n",
       "    .dataframe tbody tr th {\n",
       "        vertical-align: top;\n",
       "    }\n",
       "\n",
       "    .dataframe thead th {\n",
       "        text-align: right;\n",
       "    }\n",
       "</style>\n",
       "<table border=\"1\" class=\"dataframe\">\n",
       "  <thead>\n",
       "    <tr style=\"text-align: right;\">\n",
       "      <th></th>\n",
       "      <th>%_nulos</th>\n",
       "    </tr>\n",
       "  </thead>\n",
       "  <tbody>\n",
       "  </tbody>\n",
       "</table>\n",
       "</div>"
      ],
      "text/plain": [
       "Empty DataFrame\n",
       "Columns: [%_nulos]\n",
       "Index: []"
      ]
     },
     "metadata": {},
     "output_type": "display_data"
    },
    {
     "name": "stdout",
     "output_type": "stream",
     "text": [
      "\n",
      " ..................... \n",
      "\n",
      "Los tipos de las columnas son:\n"
     ]
    },
    {
     "data": {
      "application/vnd.microsoft.datawrangler.viewer.v0+json": {
       "columns": [
        {
         "name": "index",
         "rawType": "object",
         "type": "string"
        },
        {
         "name": "tipo_dato",
         "rawType": "object",
         "type": "unknown"
        }
       ],
       "conversionMethod": "pd.DataFrame",
       "ref": "40458686-c68d-47f9-b668-fe2e88305ed2",
       "rows": [
        [
         "User ID",
         "int64"
        ],
        [
         "Group",
         "object"
        ],
        [
         "Page Views",
         "int64"
        ],
        [
         "Time Spent",
         "int64"
        ],
        [
         "Conversion",
         "object"
        ],
        [
         "Device",
         "object"
        ],
        [
         "Location",
         "object"
        ]
       ],
       "shape": {
        "columns": 1,
        "rows": 7
       }
      },
      "text/html": [
       "<div>\n",
       "<style scoped>\n",
       "    .dataframe tbody tr th:only-of-type {\n",
       "        vertical-align: middle;\n",
       "    }\n",
       "\n",
       "    .dataframe tbody tr th {\n",
       "        vertical-align: top;\n",
       "    }\n",
       "\n",
       "    .dataframe thead th {\n",
       "        text-align: right;\n",
       "    }\n",
       "</style>\n",
       "<table border=\"1\" class=\"dataframe\">\n",
       "  <thead>\n",
       "    <tr style=\"text-align: right;\">\n",
       "      <th></th>\n",
       "      <th>tipo_dato</th>\n",
       "    </tr>\n",
       "  </thead>\n",
       "  <tbody>\n",
       "    <tr>\n",
       "      <th>User ID</th>\n",
       "      <td>int64</td>\n",
       "    </tr>\n",
       "    <tr>\n",
       "      <th>Group</th>\n",
       "      <td>object</td>\n",
       "    </tr>\n",
       "    <tr>\n",
       "      <th>Page Views</th>\n",
       "      <td>int64</td>\n",
       "    </tr>\n",
       "    <tr>\n",
       "      <th>Time Spent</th>\n",
       "      <td>int64</td>\n",
       "    </tr>\n",
       "    <tr>\n",
       "      <th>Conversion</th>\n",
       "      <td>object</td>\n",
       "    </tr>\n",
       "    <tr>\n",
       "      <th>Device</th>\n",
       "      <td>object</td>\n",
       "    </tr>\n",
       "    <tr>\n",
       "      <th>Location</th>\n",
       "      <td>object</td>\n",
       "    </tr>\n",
       "  </tbody>\n",
       "</table>\n",
       "</div>"
      ],
      "text/plain": [
       "           tipo_dato\n",
       "User ID        int64\n",
       "Group         object\n",
       "Page Views     int64\n",
       "Time Spent     int64\n",
       "Conversion    object\n",
       "Device        object\n",
       "Location      object"
      ]
     },
     "metadata": {},
     "output_type": "display_data"
    },
    {
     "name": "stdout",
     "output_type": "stream",
     "text": [
      "\n",
      " ..................... \n",
      "\n",
      "Los valores que tenemos para las columnas categóricas son: \n",
      "La columna GROUP tiene las siguientes valore únicos:\n"
     ]
    },
    {
     "data": {
      "application/vnd.microsoft.datawrangler.viewer.v0+json": {
       "columns": [
        {
         "name": "Group",
         "rawType": "object",
         "type": "string"
        },
        {
         "name": "count",
         "rawType": "int64",
         "type": "integer"
        }
       ],
       "conversionMethod": "pd.DataFrame",
       "ref": "46bc8e7e-317b-452b-a2f0-cc008c1bce59",
       "rows": [
        [
         "A",
         "2519"
        ],
        [
         "B",
         "2481"
        ]
       ],
       "shape": {
        "columns": 1,
        "rows": 2
       }
      },
      "text/html": [
       "<div>\n",
       "<style scoped>\n",
       "    .dataframe tbody tr th:only-of-type {\n",
       "        vertical-align: middle;\n",
       "    }\n",
       "\n",
       "    .dataframe tbody tr th {\n",
       "        vertical-align: top;\n",
       "    }\n",
       "\n",
       "    .dataframe thead th {\n",
       "        text-align: right;\n",
       "    }\n",
       "</style>\n",
       "<table border=\"1\" class=\"dataframe\">\n",
       "  <thead>\n",
       "    <tr style=\"text-align: right;\">\n",
       "      <th></th>\n",
       "      <th>count</th>\n",
       "    </tr>\n",
       "    <tr>\n",
       "      <th>Group</th>\n",
       "      <th></th>\n",
       "    </tr>\n",
       "  </thead>\n",
       "  <tbody>\n",
       "    <tr>\n",
       "      <th>A</th>\n",
       "      <td>2519</td>\n",
       "    </tr>\n",
       "    <tr>\n",
       "      <th>B</th>\n",
       "      <td>2481</td>\n",
       "    </tr>\n",
       "  </tbody>\n",
       "</table>\n",
       "</div>"
      ],
      "text/plain": [
       "       count\n",
       "Group       \n",
       "A       2519\n",
       "B       2481"
      ]
     },
     "metadata": {},
     "output_type": "display_data"
    },
    {
     "name": "stdout",
     "output_type": "stream",
     "text": [
      "La columna CONVERSION tiene las siguientes valore únicos:\n"
     ]
    },
    {
     "data": {
      "application/vnd.microsoft.datawrangler.viewer.v0+json": {
       "columns": [
        {
         "name": "Conversion",
         "rawType": "object",
         "type": "string"
        },
        {
         "name": "count",
         "rawType": "int64",
         "type": "integer"
        }
       ],
       "conversionMethod": "pd.DataFrame",
       "ref": "85cd1f08-2aa6-4853-9fa6-e45e9887cddb",
       "rows": [
        [
         "No",
         "4515"
        ],
        [
         "Yes",
         "485"
        ]
       ],
       "shape": {
        "columns": 1,
        "rows": 2
       }
      },
      "text/html": [
       "<div>\n",
       "<style scoped>\n",
       "    .dataframe tbody tr th:only-of-type {\n",
       "        vertical-align: middle;\n",
       "    }\n",
       "\n",
       "    .dataframe tbody tr th {\n",
       "        vertical-align: top;\n",
       "    }\n",
       "\n",
       "    .dataframe thead th {\n",
       "        text-align: right;\n",
       "    }\n",
       "</style>\n",
       "<table border=\"1\" class=\"dataframe\">\n",
       "  <thead>\n",
       "    <tr style=\"text-align: right;\">\n",
       "      <th></th>\n",
       "      <th>count</th>\n",
       "    </tr>\n",
       "    <tr>\n",
       "      <th>Conversion</th>\n",
       "      <th></th>\n",
       "    </tr>\n",
       "  </thead>\n",
       "  <tbody>\n",
       "    <tr>\n",
       "      <th>No</th>\n",
       "      <td>4515</td>\n",
       "    </tr>\n",
       "    <tr>\n",
       "      <th>Yes</th>\n",
       "      <td>485</td>\n",
       "    </tr>\n",
       "  </tbody>\n",
       "</table>\n",
       "</div>"
      ],
      "text/plain": [
       "            count\n",
       "Conversion       \n",
       "No           4515\n",
       "Yes           485"
      ]
     },
     "metadata": {},
     "output_type": "display_data"
    },
    {
     "name": "stdout",
     "output_type": "stream",
     "text": [
      "La columna DEVICE tiene las siguientes valore únicos:\n"
     ]
    },
    {
     "data": {
      "application/vnd.microsoft.datawrangler.viewer.v0+json": {
       "columns": [
        {
         "name": "Device",
         "rawType": "object",
         "type": "string"
        },
        {
         "name": "count",
         "rawType": "int64",
         "type": "integer"
        }
       ],
       "conversionMethod": "pd.DataFrame",
       "ref": "34088576-3579-4f4d-81c8-1e498262ae81",
       "rows": [
        [
         "Desktop",
         "2538"
        ],
        [
         "Mobile",
         "2462"
        ]
       ],
       "shape": {
        "columns": 1,
        "rows": 2
       }
      },
      "text/html": [
       "<div>\n",
       "<style scoped>\n",
       "    .dataframe tbody tr th:only-of-type {\n",
       "        vertical-align: middle;\n",
       "    }\n",
       "\n",
       "    .dataframe tbody tr th {\n",
       "        vertical-align: top;\n",
       "    }\n",
       "\n",
       "    .dataframe thead th {\n",
       "        text-align: right;\n",
       "    }\n",
       "</style>\n",
       "<table border=\"1\" class=\"dataframe\">\n",
       "  <thead>\n",
       "    <tr style=\"text-align: right;\">\n",
       "      <th></th>\n",
       "      <th>count</th>\n",
       "    </tr>\n",
       "    <tr>\n",
       "      <th>Device</th>\n",
       "      <th></th>\n",
       "    </tr>\n",
       "  </thead>\n",
       "  <tbody>\n",
       "    <tr>\n",
       "      <th>Desktop</th>\n",
       "      <td>2538</td>\n",
       "    </tr>\n",
       "    <tr>\n",
       "      <th>Mobile</th>\n",
       "      <td>2462</td>\n",
       "    </tr>\n",
       "  </tbody>\n",
       "</table>\n",
       "</div>"
      ],
      "text/plain": [
       "         count\n",
       "Device        \n",
       "Desktop   2538\n",
       "Mobile    2462"
      ]
     },
     "metadata": {},
     "output_type": "display_data"
    },
    {
     "name": "stdout",
     "output_type": "stream",
     "text": [
      "La columna LOCATION tiene las siguientes valore únicos:\n"
     ]
    },
    {
     "data": {
      "application/vnd.microsoft.datawrangler.viewer.v0+json": {
       "columns": [
        {
         "name": "Location",
         "rawType": "object",
         "type": "string"
        },
        {
         "name": "count",
         "rawType": "int64",
         "type": "integer"
        }
       ],
       "conversionMethod": "pd.DataFrame",
       "ref": "0b3167bc-67ee-4dac-a99a-5be79b1d61ba",
       "rows": [
        [
         "Scotland",
         "1281"
        ],
        [
         "England",
         "1246"
        ],
        [
         "Northern Ireland",
         "1242"
        ],
        [
         "Wales",
         "1231"
        ]
       ],
       "shape": {
        "columns": 1,
        "rows": 4
       }
      },
      "text/html": [
       "<div>\n",
       "<style scoped>\n",
       "    .dataframe tbody tr th:only-of-type {\n",
       "        vertical-align: middle;\n",
       "    }\n",
       "\n",
       "    .dataframe tbody tr th {\n",
       "        vertical-align: top;\n",
       "    }\n",
       "\n",
       "    .dataframe thead th {\n",
       "        text-align: right;\n",
       "    }\n",
       "</style>\n",
       "<table border=\"1\" class=\"dataframe\">\n",
       "  <thead>\n",
       "    <tr style=\"text-align: right;\">\n",
       "      <th></th>\n",
       "      <th>count</th>\n",
       "    </tr>\n",
       "    <tr>\n",
       "      <th>Location</th>\n",
       "      <th></th>\n",
       "    </tr>\n",
       "  </thead>\n",
       "  <tbody>\n",
       "    <tr>\n",
       "      <th>Scotland</th>\n",
       "      <td>1281</td>\n",
       "    </tr>\n",
       "    <tr>\n",
       "      <th>England</th>\n",
       "      <td>1246</td>\n",
       "    </tr>\n",
       "    <tr>\n",
       "      <th>Northern Ireland</th>\n",
       "      <td>1242</td>\n",
       "    </tr>\n",
       "    <tr>\n",
       "      <th>Wales</th>\n",
       "      <td>1231</td>\n",
       "    </tr>\n",
       "  </tbody>\n",
       "</table>\n",
       "</div>"
      ],
      "text/plain": [
       "                  count\n",
       "Location               \n",
       "Scotland           1281\n",
       "England            1246\n",
       "Northern Ireland   1242\n",
       "Wales              1231"
      ]
     },
     "metadata": {},
     "output_type": "display_data"
    },
    {
     "name": "stdout",
     "output_type": "stream",
     "text": [
      "\n",
      " ..................... \n",
      "\n",
      "Los principales estadísticos de las columnas categóricas para el B son: \n"
     ]
    },
    {
     "data": {
      "application/vnd.microsoft.datawrangler.viewer.v0+json": {
       "columns": [
        {
         "name": "index",
         "rawType": "object",
         "type": "string"
        },
        {
         "name": "count",
         "rawType": "object",
         "type": "unknown"
        },
        {
         "name": "unique",
         "rawType": "object",
         "type": "unknown"
        },
        {
         "name": "top",
         "rawType": "object",
         "type": "string"
        },
        {
         "name": "freq",
         "rawType": "object",
         "type": "unknown"
        }
       ],
       "conversionMethod": "pd.DataFrame",
       "ref": "4257a8da-9cdd-42b7-9fa3-5293d61efda6",
       "rows": [
        [
         "Group",
         "2481",
         "1",
         "B",
         "2481"
        ],
        [
         "Conversion",
         "2481",
         "2",
         "No",
         "2132"
        ],
        [
         "Device",
         "2481",
         "2",
         "Desktop",
         "1294"
        ],
        [
         "Location",
         "2481",
         "4",
         "England",
         "640"
        ]
       ],
       "shape": {
        "columns": 4,
        "rows": 4
       }
      },
      "text/html": [
       "<div>\n",
       "<style scoped>\n",
       "    .dataframe tbody tr th:only-of-type {\n",
       "        vertical-align: middle;\n",
       "    }\n",
       "\n",
       "    .dataframe tbody tr th {\n",
       "        vertical-align: top;\n",
       "    }\n",
       "\n",
       "    .dataframe thead th {\n",
       "        text-align: right;\n",
       "    }\n",
       "</style>\n",
       "<table border=\"1\" class=\"dataframe\">\n",
       "  <thead>\n",
       "    <tr style=\"text-align: right;\">\n",
       "      <th></th>\n",
       "      <th>count</th>\n",
       "      <th>unique</th>\n",
       "      <th>top</th>\n",
       "      <th>freq</th>\n",
       "    </tr>\n",
       "  </thead>\n",
       "  <tbody>\n",
       "    <tr>\n",
       "      <th>Group</th>\n",
       "      <td>2481</td>\n",
       "      <td>1</td>\n",
       "      <td>B</td>\n",
       "      <td>2481</td>\n",
       "    </tr>\n",
       "    <tr>\n",
       "      <th>Conversion</th>\n",
       "      <td>2481</td>\n",
       "      <td>2</td>\n",
       "      <td>No</td>\n",
       "      <td>2132</td>\n",
       "    </tr>\n",
       "    <tr>\n",
       "      <th>Device</th>\n",
       "      <td>2481</td>\n",
       "      <td>2</td>\n",
       "      <td>Desktop</td>\n",
       "      <td>1294</td>\n",
       "    </tr>\n",
       "    <tr>\n",
       "      <th>Location</th>\n",
       "      <td>2481</td>\n",
       "      <td>4</td>\n",
       "      <td>England</td>\n",
       "      <td>640</td>\n",
       "    </tr>\n",
       "  </tbody>\n",
       "</table>\n",
       "</div>"
      ],
      "text/plain": [
       "           count unique      top  freq\n",
       "Group       2481      1        B  2481\n",
       "Conversion  2481      2       No  2132\n",
       "Device      2481      2  Desktop  1294\n",
       "Location    2481      4  England   640"
      ]
     },
     "metadata": {},
     "output_type": "display_data"
    },
    {
     "name": "stdout",
     "output_type": "stream",
     "text": [
      "\n",
      " ..................... \n",
      "\n",
      "Los principales estadísticos de las columnas numéricas para el B son: \n"
     ]
    },
    {
     "data": {
      "application/vnd.microsoft.datawrangler.viewer.v0+json": {
       "columns": [
        {
         "name": "index",
         "rawType": "object",
         "type": "string"
        },
        {
         "name": "count",
         "rawType": "float64",
         "type": "float"
        },
        {
         "name": "mean",
         "rawType": "float64",
         "type": "float"
        },
        {
         "name": "std",
         "rawType": "float64",
         "type": "float"
        },
        {
         "name": "min",
         "rawType": "float64",
         "type": "float"
        },
        {
         "name": "25%",
         "rawType": "float64",
         "type": "float"
        },
        {
         "name": "50%",
         "rawType": "float64",
         "type": "float"
        },
        {
         "name": "75%",
         "rawType": "float64",
         "type": "float"
        },
        {
         "name": "max",
         "rawType": "float64",
         "type": "float"
        }
       ],
       "conversionMethod": "pd.DataFrame",
       "ref": "d5e50513-ca19-4d80-bfe1-f47874e6134c",
       "rows": [
        [
         "User ID",
         "2481.0",
         "14875.678355501814",
         "2880.104515305607",
         "10005.0",
         "12367.0",
         "14815.0",
         "17309.0",
         "19993.0"
        ],
        [
         "Page Views",
         "2481.0",
         "7.492946392583636",
         "3.96344824625655",
         "1.0",
         "4.0",
         "8.0",
         "11.0",
         "14.0"
        ],
        [
         "Time Spent",
         "2481.0",
         "243.30390971382508",
         "119.19355168352766",
         "40.0",
         "136.0",
         "244.0",
         "348.0",
         "449.0"
        ]
       ],
       "shape": {
        "columns": 8,
        "rows": 3
       }
      },
      "text/html": [
       "<div>\n",
       "<style scoped>\n",
       "    .dataframe tbody tr th:only-of-type {\n",
       "        vertical-align: middle;\n",
       "    }\n",
       "\n",
       "    .dataframe tbody tr th {\n",
       "        vertical-align: top;\n",
       "    }\n",
       "\n",
       "    .dataframe thead th {\n",
       "        text-align: right;\n",
       "    }\n",
       "</style>\n",
       "<table border=\"1\" class=\"dataframe\">\n",
       "  <thead>\n",
       "    <tr style=\"text-align: right;\">\n",
       "      <th></th>\n",
       "      <th>count</th>\n",
       "      <th>mean</th>\n",
       "      <th>std</th>\n",
       "      <th>min</th>\n",
       "      <th>25%</th>\n",
       "      <th>50%</th>\n",
       "      <th>75%</th>\n",
       "      <th>max</th>\n",
       "    </tr>\n",
       "  </thead>\n",
       "  <tbody>\n",
       "    <tr>\n",
       "      <th>User ID</th>\n",
       "      <td>2481.0</td>\n",
       "      <td>14875.678356</td>\n",
       "      <td>2880.104515</td>\n",
       "      <td>10005.0</td>\n",
       "      <td>12367.0</td>\n",
       "      <td>14815.0</td>\n",
       "      <td>17309.0</td>\n",
       "      <td>19993.0</td>\n",
       "    </tr>\n",
       "    <tr>\n",
       "      <th>Page Views</th>\n",
       "      <td>2481.0</td>\n",
       "      <td>7.492946</td>\n",
       "      <td>3.963448</td>\n",
       "      <td>1.0</td>\n",
       "      <td>4.0</td>\n",
       "      <td>8.0</td>\n",
       "      <td>11.0</td>\n",
       "      <td>14.0</td>\n",
       "    </tr>\n",
       "    <tr>\n",
       "      <th>Time Spent</th>\n",
       "      <td>2481.0</td>\n",
       "      <td>243.303910</td>\n",
       "      <td>119.193552</td>\n",
       "      <td>40.0</td>\n",
       "      <td>136.0</td>\n",
       "      <td>244.0</td>\n",
       "      <td>348.0</td>\n",
       "      <td>449.0</td>\n",
       "    </tr>\n",
       "  </tbody>\n",
       "</table>\n",
       "</div>"
      ],
      "text/plain": [
       "             count          mean          std      min      25%      50%  \\\n",
       "User ID     2481.0  14875.678356  2880.104515  10005.0  12367.0  14815.0   \n",
       "Page Views  2481.0      7.492946     3.963448      1.0      4.0      8.0   \n",
       "Time Spent  2481.0    243.303910   119.193552     40.0    136.0    244.0   \n",
       "\n",
       "                75%      max  \n",
       "User ID     17309.0  19993.0  \n",
       "Page Views     11.0     14.0  \n",
       "Time Spent    348.0    449.0  "
      ]
     },
     "metadata": {},
     "output_type": "display_data"
    },
    {
     "name": "stdout",
     "output_type": "stream",
     "text": [
      "\n",
      " ..................... \n",
      "\n",
      "Los principales estadísticos de las columnas categóricas para el A son: \n"
     ]
    },
    {
     "data": {
      "application/vnd.microsoft.datawrangler.viewer.v0+json": {
       "columns": [
        {
         "name": "index",
         "rawType": "object",
         "type": "string"
        },
        {
         "name": "count",
         "rawType": "object",
         "type": "unknown"
        },
        {
         "name": "unique",
         "rawType": "object",
         "type": "unknown"
        },
        {
         "name": "top",
         "rawType": "object",
         "type": "string"
        },
        {
         "name": "freq",
         "rawType": "object",
         "type": "unknown"
        }
       ],
       "conversionMethod": "pd.DataFrame",
       "ref": "1998e193-64ce-44d8-b184-e5ca25c0389e",
       "rows": [
        [
         "Group",
         "2519",
         "1",
         "A",
         "2519"
        ],
        [
         "Conversion",
         "2519",
         "2",
         "No",
         "2383"
        ],
        [
         "Device",
         "2519",
         "2",
         "Mobile",
         "1275"
        ],
        [
         "Location",
         "2519",
         "4",
         "Scotland",
         "670"
        ]
       ],
       "shape": {
        "columns": 4,
        "rows": 4
       }
      },
      "text/html": [
       "<div>\n",
       "<style scoped>\n",
       "    .dataframe tbody tr th:only-of-type {\n",
       "        vertical-align: middle;\n",
       "    }\n",
       "\n",
       "    .dataframe tbody tr th {\n",
       "        vertical-align: top;\n",
       "    }\n",
       "\n",
       "    .dataframe thead th {\n",
       "        text-align: right;\n",
       "    }\n",
       "</style>\n",
       "<table border=\"1\" class=\"dataframe\">\n",
       "  <thead>\n",
       "    <tr style=\"text-align: right;\">\n",
       "      <th></th>\n",
       "      <th>count</th>\n",
       "      <th>unique</th>\n",
       "      <th>top</th>\n",
       "      <th>freq</th>\n",
       "    </tr>\n",
       "  </thead>\n",
       "  <tbody>\n",
       "    <tr>\n",
       "      <th>Group</th>\n",
       "      <td>2519</td>\n",
       "      <td>1</td>\n",
       "      <td>A</td>\n",
       "      <td>2519</td>\n",
       "    </tr>\n",
       "    <tr>\n",
       "      <th>Conversion</th>\n",
       "      <td>2519</td>\n",
       "      <td>2</td>\n",
       "      <td>No</td>\n",
       "      <td>2383</td>\n",
       "    </tr>\n",
       "    <tr>\n",
       "      <th>Device</th>\n",
       "      <td>2519</td>\n",
       "      <td>2</td>\n",
       "      <td>Mobile</td>\n",
       "      <td>1275</td>\n",
       "    </tr>\n",
       "    <tr>\n",
       "      <th>Location</th>\n",
       "      <td>2519</td>\n",
       "      <td>4</td>\n",
       "      <td>Scotland</td>\n",
       "      <td>670</td>\n",
       "    </tr>\n",
       "  </tbody>\n",
       "</table>\n",
       "</div>"
      ],
      "text/plain": [
       "           count unique       top  freq\n",
       "Group       2519      1         A  2519\n",
       "Conversion  2519      2        No  2383\n",
       "Device      2519      2    Mobile  1275\n",
       "Location    2519      4  Scotland   670"
      ]
     },
     "metadata": {},
     "output_type": "display_data"
    },
    {
     "name": "stdout",
     "output_type": "stream",
     "text": [
      "\n",
      " ..................... \n",
      "\n",
      "Los principales estadísticos de las columnas numéricas para el A son: \n"
     ]
    },
    {
     "data": {
      "application/vnd.microsoft.datawrangler.viewer.v0+json": {
       "columns": [
        {
         "name": "index",
         "rawType": "object",
         "type": "string"
        },
        {
         "name": "count",
         "rawType": "float64",
         "type": "float"
        },
        {
         "name": "mean",
         "rawType": "float64",
         "type": "float"
        },
        {
         "name": "std",
         "rawType": "float64",
         "type": "float"
        },
        {
         "name": "min",
         "rawType": "float64",
         "type": "float"
        },
        {
         "name": "25%",
         "rawType": "float64",
         "type": "float"
        },
        {
         "name": "50%",
         "rawType": "float64",
         "type": "float"
        },
        {
         "name": "75%",
         "rawType": "float64",
         "type": "float"
        },
        {
         "name": "max",
         "rawType": "float64",
         "type": "float"
        }
       ],
       "conversionMethod": "pd.DataFrame",
       "ref": "4d868e42-f9a1-4d4f-9883-bbfc02332779",
       "rows": [
        [
         "User ID",
         "2519.0",
         "14973.893211591901",
         "2858.061548365778",
         "10001.0",
         "12540.5",
         "14902.0",
         "17451.0",
         "19995.0"
        ],
        [
         "Page Views",
         "2519.0",
         "7.581579992060341",
         "4.080065708309968",
         "1.0",
         "4.0",
         "8.0",
         "11.0",
         "14.0"
        ],
        [
         "Time Spent",
         "2519.0",
         "241.73322747121873",
         "117.34002634527045",
         "40.0",
         "137.5",
         "241.0",
         "343.0",
         "449.0"
        ]
       ],
       "shape": {
        "columns": 8,
        "rows": 3
       }
      },
      "text/html": [
       "<div>\n",
       "<style scoped>\n",
       "    .dataframe tbody tr th:only-of-type {\n",
       "        vertical-align: middle;\n",
       "    }\n",
       "\n",
       "    .dataframe tbody tr th {\n",
       "        vertical-align: top;\n",
       "    }\n",
       "\n",
       "    .dataframe thead th {\n",
       "        text-align: right;\n",
       "    }\n",
       "</style>\n",
       "<table border=\"1\" class=\"dataframe\">\n",
       "  <thead>\n",
       "    <tr style=\"text-align: right;\">\n",
       "      <th></th>\n",
       "      <th>count</th>\n",
       "      <th>mean</th>\n",
       "      <th>std</th>\n",
       "      <th>min</th>\n",
       "      <th>25%</th>\n",
       "      <th>50%</th>\n",
       "      <th>75%</th>\n",
       "      <th>max</th>\n",
       "    </tr>\n",
       "  </thead>\n",
       "  <tbody>\n",
       "    <tr>\n",
       "      <th>User ID</th>\n",
       "      <td>2519.0</td>\n",
       "      <td>14973.893212</td>\n",
       "      <td>2858.061548</td>\n",
       "      <td>10001.0</td>\n",
       "      <td>12540.5</td>\n",
       "      <td>14902.0</td>\n",
       "      <td>17451.0</td>\n",
       "      <td>19995.0</td>\n",
       "    </tr>\n",
       "    <tr>\n",
       "      <th>Page Views</th>\n",
       "      <td>2519.0</td>\n",
       "      <td>7.581580</td>\n",
       "      <td>4.080066</td>\n",
       "      <td>1.0</td>\n",
       "      <td>4.0</td>\n",
       "      <td>8.0</td>\n",
       "      <td>11.0</td>\n",
       "      <td>14.0</td>\n",
       "    </tr>\n",
       "    <tr>\n",
       "      <th>Time Spent</th>\n",
       "      <td>2519.0</td>\n",
       "      <td>241.733227</td>\n",
       "      <td>117.340026</td>\n",
       "      <td>40.0</td>\n",
       "      <td>137.5</td>\n",
       "      <td>241.0</td>\n",
       "      <td>343.0</td>\n",
       "      <td>449.0</td>\n",
       "    </tr>\n",
       "  </tbody>\n",
       "</table>\n",
       "</div>"
      ],
      "text/plain": [
       "             count          mean          std      min      25%      50%  \\\n",
       "User ID     2519.0  14973.893212  2858.061548  10001.0  12540.5  14902.0   \n",
       "Page Views  2519.0      7.581580     4.080066      1.0      4.0      8.0   \n",
       "Time Spent  2519.0    241.733227   117.340026     40.0    137.5    241.0   \n",
       "\n",
       "                75%      max  \n",
       "User ID     17451.0  19995.0  \n",
       "Page Views     11.0     14.0  \n",
       "Time Spent    343.0    449.0  "
      ]
     },
     "metadata": {},
     "output_type": "display_data"
    }
   ],
   "source": [
    "sa.exploracion_dataframe(df, \"Group\")"
   ]
  },
  {
   "cell_type": "code",
   "execution_count": 4,
   "metadata": {},
   "outputs": [
    {
     "name": "stdout",
     "output_type": "stream",
     "text": [
      "El tamaño muestral BASANDONOS EN LA TASA DE CONVERSIÓN DEBE SER DE: 191\n"
     ]
    }
   ],
   "source": [
    "# calculamos el tamaño muestral teniendo en cuenta la TASA DE CONVERSIÓN\n",
    "diferencia_conversion = sms.proportion_effectsize(0.05, 0.13)   \n",
    "\n",
    "tamaño_muestral_conversion = sms.NormalIndPower().solve_power(\n",
    "    diferencia_conversion,  # el tamaño del efecto calculado en el paso anterior\n",
    "    power=0.8, # la potencia estadística deseada, que recordemos se suele establecer en 0.8\n",
    "    alpha=0.05, # nivel de significancia deseado, que normalmente se establece en 0.05\n",
    "    ratio=1 # La relación entre el tamaño de muestra del grupo experimental y el tamaño de muestra del grupo de control. En este caso, se establece en 1, lo que significa que ambos grupos tendrán el mismo tamaño de muestra.\n",
    "\n",
    "    )                                              \n",
    "                       \n",
    "print(f'El tamaño muestral BASANDONOS EN LA TASA DE CONVERSIÓN DEBE SER DE: {math.ceil(tamaño_muestral_conversion)}')"
   ]
  },
  {
   "cell_type": "code",
   "execution_count": 5,
   "metadata": {},
   "outputs": [
    {
     "data": {
      "text/plain": [
       "Group\n",
       "A    191\n",
       "B    191\n",
       "Name: count, dtype: int64"
      ]
     },
     "execution_count": 5,
     "metadata": {},
     "output_type": "execute_result"
    }
   ],
   "source": [
    "# ya tenemos los datos preparados, lo siguiente es seleccionar 191 usuarios de cada grupo\n",
    "\n",
    "# seleccionamos 191 usuarios de cada grupo de forma aleatoria\n",
    "grupo_control = df[df['Group'] == 'A'].sample(n=math.ceil(tamaño_muestral_conversion), random_state=22)\n",
    "grupo_test = df[df['Group'] == 'B'].sample(n=math.ceil(tamaño_muestral_conversion), random_state=22)\n",
    "\n",
    "# unimos los dos conjuntos de datos\n",
    "ab_test = pd.concat([grupo_control, grupo_test], axis=0).reset_index(drop = True)\n",
    "\n",
    "# comprobamos que tengamos el mismo número de usuarios en los 2 grupos\n",
    "ab_test[\"Group\"].value_counts()"
   ]
  },
  {
   "cell_type": "code",
   "execution_count": 6,
   "metadata": {},
   "outputs": [
    {
     "data": {
      "application/vnd.microsoft.datawrangler.viewer.v0+json": {
       "columns": [
        {
         "name": "Group",
         "rawType": "object",
         "type": "string"
        },
        {
         "name": "mean",
         "rawType": "float64",
         "type": "float"
        },
        {
         "name": "std",
         "rawType": "float64",
         "type": "float"
        }
       ],
       "conversionMethod": "pd.DataFrame",
       "ref": "2efb78cc-d2bb-47d9-ab5e-3bb48ce6ab4b",
       "rows": [
        [
         "A",
         "0.054",
         "0.226"
        ],
        [
         "B",
         "0.1407",
         "0.3477"
        ]
       ],
       "shape": {
        "columns": 2,
        "rows": 2
       }
      },
      "text/html": [
       "<div>\n",
       "<style scoped>\n",
       "    .dataframe tbody tr th:only-of-type {\n",
       "        vertical-align: middle;\n",
       "    }\n",
       "\n",
       "    .dataframe tbody tr th {\n",
       "        vertical-align: top;\n",
       "    }\n",
       "\n",
       "    .dataframe thead th {\n",
       "        text-align: right;\n",
       "    }\n",
       "</style>\n",
       "<table border=\"1\" class=\"dataframe\">\n",
       "  <thead>\n",
       "    <tr style=\"text-align: right;\">\n",
       "      <th></th>\n",
       "      <th>mean</th>\n",
       "      <th>std</th>\n",
       "    </tr>\n",
       "    <tr>\n",
       "      <th>Group</th>\n",
       "      <th></th>\n",
       "      <th></th>\n",
       "    </tr>\n",
       "  </thead>\n",
       "  <tbody>\n",
       "    <tr>\n",
       "      <th>A</th>\n",
       "      <td>0.0540</td>\n",
       "      <td>0.2260</td>\n",
       "    </tr>\n",
       "    <tr>\n",
       "      <th>B</th>\n",
       "      <td>0.1407</td>\n",
       "      <td>0.3477</td>\n",
       "    </tr>\n",
       "  </tbody>\n",
       "</table>\n",
       "</div>"
      ],
      "text/plain": [
       "         mean     std\n",
       "Group                \n",
       "A      0.0540  0.2260\n",
       "B      0.1407  0.3477"
      ]
     },
     "metadata": {},
     "output_type": "display_data"
    }
   ],
   "source": [
    "# Convertir \"Yes\"/\"No\" en valores numéricos para calcular la tasa de conversión\n",
    "df[\"Conversion\"] = df[\"Conversion\"].map({\"Yes\": 1, \"No\": 0})\n",
    "\n",
    "# Crear una copia del dataframe para evitar modificar el original\n",
    "df_temp = df.copy()\n",
    "\n",
    "# Calcular la tasa de conversión y desviación estándar por grupo\n",
    "ratio_conversion = df_temp.groupby(\"Group\")[\"Conversion\"].agg([\"mean\", \"std\"]).round(4)\n",
    "\n",
    "# Mostrar los datos\n",
    "display(ratio_conversion)\n",
    "\n"
   ]
  },
  {
   "cell_type": "code",
   "execution_count": 7,
   "metadata": {},
   "outputs": [
    {
     "data": {
      "image/png": "[encoded data removed]",
      "text/plain": [
       "<Figure size 600x400 with 1 Axes>"
      ]
     },
     "metadata": {},
     "output_type": "display_data"
    }
   ],
   "source": [
    "# Crear el gráfico de barras con barras de error\n",
    "plt.figure(figsize=(6, 4))\n",
    "fig = sns.barplot(\n",
    "    data=ratio_conversion.reset_index(), \n",
    "    x=\"Group\", \n",
    "    y=\"mean\", \n",
    "    palette=[\"#FF6F61\", \"#6B5B95\"], \n",
    "    errorbar=\"sd\"\n",
    ")\n",
    "\n",
    "# Etiquetas en las barras (convertimos a porcentaje)\n",
    "for container in fig.containers:\n",
    "    fig.bar_label(container, labels=[f\"{v * 100:.2f}%\" for v in container.datavalues], fontsize=10)\n",
    "\n",
    "# Eliminar bordes innecesarios\n",
    "fig.spines['top'].set_visible(False)\n",
    "fig.spines['right'].set_visible(False)\n",
    "\n",
    "# Títulos y etiquetas\n",
    "fig.set_title(\"Tasa de Conversión por Grupo\", fontsize=14, fontweight=\"bold\")\n",
    "fig.set_ylabel(\"Tasa de Conversión (%)\", fontsize=10)\n",
    "fig.set_xlabel(\"\")  # Se deja vacío para un diseño más limpio\n",
    "\n",
    "plt.show()"
   ]
  },
  {
   "cell_type": "markdown",
   "metadata": {},
   "source": [
    "# Conclusion en conversiones\n",
    "Podemos visualizar que existe un mayor grado de conversion con el nuevo diseño, por lo que se cumple la H1"
   ]
  },
  {
   "cell_type": "markdown",
   "metadata": {},
   "source": [
    "# Analisis de conversiones positivas por Dispositivo y Localidad"
   ]
  },
  {
   "cell_type": "code",
   "execution_count": 14,
   "metadata": {},
   "outputs": [
    {
     "data": {
      "image/png": "[encoded data removed]",
      "text/plain": [
       "<Figure size 1200x600 with 1 Axes>"
      ]
     },
     "metadata": {},
     "output_type": "display_data"
    },
    {
     "data": {
      "image/png": "[encoded data removed]",
      "text/plain": [
       "<Figure size 1311x500 with 2 Axes>"
      ]
     },
     "metadata": {},
     "output_type": "display_data"
    }
   ],
   "source": [
    "\n",
    "# Definir una paleta de colores más atractiva\n",
    "colores = [\"#FF6F61\", \"#6B5B95\"]  # Mobile en rojo coral, Desktop en azul violeta\n",
    "\n",
    "# Definir una paleta de colores más atractiva\n",
    "colores = [\"#FF6F61\", \"#6B5B95\"]  # Mobile en rojo coral, Desktop en azul violeta\n",
    "\n",
    "# Agrupar los datos sin modificar el dataframe original\n",
    "conversiones_positivas = df[df[\"Conversion\"] == 1].copy()\n",
    "cuenta_agrupada = conversiones_positivas.groupby([\"Group\", \"Device\", \"Location\"])[\"Conversion\"].count().reset_index(name=\"Count\")\n",
    "\n",
    "# Crear el gráfico de barras apiladas con nuevos colores\n",
    "plt.figure(figsize=(12, 6))\n",
    "sns.barplot(data=cuenta_agrupada, x=\"Location\", y=\"Count\", hue=\"Device\", dodge=False, palette=colores)\n",
    "\n",
    "# Añadir etiquetas y título\n",
    "plt.xlabel(\"Ubicación\")\n",
    "plt.ylabel(\"Cantidad de Conversiones\")\n",
    "plt.title(\"Conversiones Positivas por Dispositivo y Ubicación\", fontsize=14, fontweight=\"bold\")\n",
    "plt.xticks(rotation=45)  # Mejorar legibilidad en el eje X\n",
    "plt.legend(title=\"Dispositivo\")\n",
    "\n",
    "# Dividir los grupos A y B en gráficos separados manteniendo los mismos colores\n",
    "g = sns.FacetGrid(cuenta_agrupada, col=\"Group\", height=5, aspect=1.2)\n",
    "g.map_dataframe(sns.barplot, x=\"Location\", y=\"Count\", hue=\"Device\", dodge=False, palette=colores)\n",
    "g.add_legend()\n",
    "\n",
    "plt.show()\n",
    "\n"
   ]
  },
  {
   "cell_type": "markdown",
   "metadata": {},
   "source": [
    "# Análisis clave:\n",
    "- Las conversiones en Mobile son menores en algunas ubicaciones, destacándose Mobile-Northern Ireland y Mobile-Wales con los valores más bajos.\n",
    "- En todas las regiones, Desktop tiene más conversiones que Mobile, aunque la diferencia varía según la ubicación.\n",
    "- Inglaterra presenta la mayor diferencia entre dispositivos, con Desktop alcanzando valores significativamente más altos que Mobile.\n",
    "- En Escocia y Gales, las conversiones en Desktop y Mobile son más equilibradas, lo que sugiere que en ciertas ubicaciones Mobile puede desempeñarse de manera más similar a Desktop.\n",
    "- La relación entre conversiones en Mobile y Desktop varía según la ubicación, lo que podría estar influenciado por factores externos como hábitos de navegación o acceso a tecnología en cada región."
   ]
  },
  {
   "cell_type": "code",
   "execution_count": 15,
   "metadata": {},
   "outputs": [
    {
     "data": {
      "image/png": "[encoded data removed]",
      "text/plain": [
       "<Figure size 1200x600 with 1 Axes>"
      ]
     },
     "metadata": {},
     "output_type": "display_data"
    }
   ],
   "source": [
    "colores = [\"#FF6F61\", \"#6B5B95\"]\n",
    "\n",
    "\n",
    "# Crear el gráfico de líneas en lugar de barras\n",
    "plt.figure(figsize=(12, 6))\n",
    "sns.lineplot(data=cuenta_agrupada, x=\"Location\", y=\"Count\", hue=\"Device\", style=\"Group\", markers=True, dashes=False,palette=colores)\n",
    "\n",
    "# Ajustes visuales\n",
    "plt.xlabel(\"Ubicación\", fontsize=12)\n",
    "plt.ylabel(\"Cantidad de Conversiones\", fontsize=12)\n",
    "plt.title(\"Tendencia de conversiones por dispositivo y ubicación\", fontsize=14, fontweight='bold')\n",
    "plt.legend(title=\"Dispositivo\")\n",
    "\n",
    "plt.show()"
   ]
  },
  {
   "cell_type": "markdown",
   "metadata": {},
   "source": [
    "# Análisis Clave (Basado en el Gráfico de Líneas)\n",
    "\n",
    "## 1. Variación en tendencias por dispositivo  \n",
    "- En la mayoría de las ubicaciones, **Desktop mantiene una tendencia superior a Mobile**, con picos más altos en conversiones.  \n",
    "- **Inglaterra destaca con la brecha más amplia entre Desktop y Mobile**, lo que indica una mayor preferencia por Desktop en esa región.  \n",
    "- En **Escocia y Gales, las líneas de Mobile y Desktop están más cercanas**, lo que sugiere una distribución más equilibrada de conversiones entre dispositivos.  \n",
    "\n",
    "## 2️. Diferencias de comportamiento entre ubicaciones  \n",
    "- **Inglaterra muestra la tendencia más pronunciada**, con valores elevados en ambos dispositivos, pero con una diferencia notable a favor de Desktop.  \n",
    "- **Irlanda del Norte presenta la tendencia más baja**, con menos conversiones en general y menor variabilidad entre dispositivos.  \n",
    "- **Escocia y Gales siguen una tendencia similar**, con fluctuaciones menores entre Desktop y Mobile.  \n",
    "\n",
    "## 3. Tendencias en Mobile  \n",
    "- A pesar de que **Desktop domina en la mayoría de los casos**, en ciertas ubicaciones **Mobile muestra una tendencia más cercana**, lo que indica que su rendimiento puede depender del contexto local.  \n",
    "- En algunas regiones, la diferencia entre Mobile y Desktop **no es constante**, sino que fluctúa a lo largo de las ubicaciones.  \n",
    "\n",
    "---\n",
    "\n",
    "# 🏁 Conclusión  \n",
    "- **El gráfico de líneas revela tendencias más dinámicas**: en algunas regiones la diferencia entre dispositivos es más estable, mientras que en otras hay fluctuaciones más marcadas.  \n",
    "- **Desktop sigue siendo el dispositivo con mayor cantidad de conversiones en todas las ubicaciones**, pero el desempeño de Mobile varía dependiendo del contexto geográfico.  \n",
    "- **La variabilidad entre ubicaciones sugiere que factores como hábitos de navegación o accesibilidad tecnológica pueden influir en las conversiones.**  \n"
   ]
  },
  {
   "cell_type": "markdown",
   "metadata": {},
   "source": [
    "# Z-test"
   ]
  },
  {
   "cell_type": "code",
   "execution_count": 17,
   "metadata": {},
   "outputs": [
    {
     "data": {
      "application/vnd.microsoft.datawrangler.viewer.v0+json": {
       "columns": [
        {
         "name": "index",
         "rawType": "int64",
         "type": "integer"
        },
        {
         "name": "User ID",
         "rawType": "int64",
         "type": "integer"
        },
        {
         "name": "Group",
         "rawType": "object",
         "type": "string"
        },
        {
         "name": "Page Views",
         "rawType": "int64",
         "type": "integer"
        },
        {
         "name": "Time Spent",
         "rawType": "int64",
         "type": "integer"
        },
        {
         "name": "Conversion",
         "rawType": "int64",
         "type": "integer"
        },
        {
         "name": "Device",
         "rawType": "object",
         "type": "string"
        },
        {
         "name": "Location",
         "rawType": "object",
         "type": "string"
        }
       ],
       "conversionMethod": "pd.DataFrame",
       "ref": "dfb49102-e728-4cca-ba84-c1b15f076626",
       "rows": [
        [
         "0",
         "14292",
         "B",
         "3",
         "424",
         "0",
         "Mobile",
         "Northern Ireland"
        ],
        [
         "1",
         "11682",
         "A",
         "9",
         "342",
         "0",
         "Mobile",
         "Scotland"
        ],
        [
         "2",
         "19825",
         "A",
         "2",
         "396",
         "0",
         "Desktop",
         "Northern Ireland"
        ],
        [
         "3",
         "16080",
         "B",
         "4",
         "318",
         "0",
         "Desktop",
         "Wales"
        ],
        [
         "4",
         "18851",
         "A",
         "1",
         "338",
         "1",
         "Desktop",
         "Scotland"
        ]
       ],
       "shape": {
        "columns": 7,
        "rows": 5
       }
      },
      "text/html": [
       "<div>\n",
       "<style scoped>\n",
       "    .dataframe tbody tr th:only-of-type {\n",
       "        vertical-align: middle;\n",
       "    }\n",
       "\n",
       "    .dataframe tbody tr th {\n",
       "        vertical-align: top;\n",
       "    }\n",
       "\n",
       "    .dataframe thead th {\n",
       "        text-align: right;\n",
       "    }\n",
       "</style>\n",
       "<table border=\"1\" class=\"dataframe\">\n",
       "  <thead>\n",
       "    <tr style=\"text-align: right;\">\n",
       "      <th></th>\n",
       "      <th>User ID</th>\n",
       "      <th>Group</th>\n",
       "      <th>Page Views</th>\n",
       "      <th>Time Spent</th>\n",
       "      <th>Conversion</th>\n",
       "      <th>Device</th>\n",
       "      <th>Location</th>\n",
       "    </tr>\n",
       "  </thead>\n",
       "  <tbody>\n",
       "    <tr>\n",
       "      <th>0</th>\n",
       "      <td>14292</td>\n",
       "      <td>B</td>\n",
       "      <td>3</td>\n",
       "      <td>424</td>\n",
       "      <td>0</td>\n",
       "      <td>Mobile</td>\n",
       "      <td>Northern Ireland</td>\n",
       "    </tr>\n",
       "    <tr>\n",
       "      <th>1</th>\n",
       "      <td>11682</td>\n",
       "      <td>A</td>\n",
       "      <td>9</td>\n",
       "      <td>342</td>\n",
       "      <td>0</td>\n",
       "      <td>Mobile</td>\n",
       "      <td>Scotland</td>\n",
       "    </tr>\n",
       "    <tr>\n",
       "      <th>2</th>\n",
       "      <td>19825</td>\n",
       "      <td>A</td>\n",
       "      <td>2</td>\n",
       "      <td>396</td>\n",
       "      <td>0</td>\n",
       "      <td>Desktop</td>\n",
       "      <td>Northern Ireland</td>\n",
       "    </tr>\n",
       "    <tr>\n",
       "      <th>3</th>\n",
       "      <td>16080</td>\n",
       "      <td>B</td>\n",
       "      <td>4</td>\n",
       "      <td>318</td>\n",
       "      <td>0</td>\n",
       "      <td>Desktop</td>\n",
       "      <td>Wales</td>\n",
       "    </tr>\n",
       "    <tr>\n",
       "      <th>4</th>\n",
       "      <td>18851</td>\n",
       "      <td>A</td>\n",
       "      <td>1</td>\n",
       "      <td>338</td>\n",
       "      <td>1</td>\n",
       "      <td>Desktop</td>\n",
       "      <td>Scotland</td>\n",
       "    </tr>\n",
       "  </tbody>\n",
       "</table>\n",
       "</div>"
      ],
      "text/plain": [
       "   User ID Group  Page Views  Time Spent  Conversion   Device  \\\n",
       "0    14292     B           3         424           0   Mobile   \n",
       "1    11682     A           9         342           0   Mobile   \n",
       "2    19825     A           2         396           0  Desktop   \n",
       "3    16080     B           4         318           0  Desktop   \n",
       "4    18851     A           1         338           1  Desktop   \n",
       "\n",
       "           Location  \n",
       "0  Northern Ireland  \n",
       "1          Scotland  \n",
       "2  Northern Ireland  \n",
       "3             Wales  \n",
       "4          Scotland  "
      ]
     },
     "execution_count": 17,
     "metadata": {},
     "output_type": "execute_result"
    }
   ],
   "source": [
    "df.head()"
   ]
  },
  {
   "cell_type": "code",
   "execution_count": 25,
   "metadata": {},
   "outputs": [
    {
     "name": "stdout",
     "output_type": "stream",
     "text": [
      "El estadístico de prueba (Z) es: -10.35, el p-valor es 0.0\n",
      "El p-valor de la prueba es 0.0, por lo tanto, hay diferencias significativas entre los grupos.\n"
     ]
    }
   ],
   "source": [
    "# instanciamos la clase de los métodos estadísticos\n",
    "ab_testing = sa.Pruebas_parametricas(\"Group\", \"Conversion\", df_temp, \"B\", \"A\")\n",
    "ab_testing.z_test()"
   ]
  }
 ],
 "metadata": {
  "kernelspec": {
   "display_name": "Python 3",
   "language": "python",
   "name": "python3"
  },
  "language_info": {
   "codemirror_mode": {
    "name": "ipython",
    "version": 3
   },
   "file_extension": ".py",
   "mimetype": "text/x-python",
   "name": "python",
   "nbconvert_exporter": "python",
   "pygments_lexer": "ipython3",
   "version": "3.12.4"
  }
 },
 "nbformat": 4,
 "nbformat_minor": 2
}
